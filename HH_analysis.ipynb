{
 "cells": [
  {
   "cell_type": "code",
   "execution_count": 198,
   "metadata": {},
   "outputs": [],
   "source": [
    "import requests\n",
    "import csv\n",
    "from bs4 import BeautifulSoup as bs\n",
    "import pandas as pd\n",
    "from pymystem3 import Mystem\n",
    "import plotly.express as px\n",
    "import matplotlib.pyplot as plt"
   ]
  },
  {
   "cell_type": "code",
   "execution_count": 199,
   "metadata": {},
   "outputs": [],
   "source": [
    "header = {'Accept': '*/*', \n",
    "              'User-Agent': 'Mozilla/5.0 (Macintosh; Intel Mac OS X 10_14_4) AppleWebKit/605.1.15 (KHTML, like Gecko) Version/12.1 Safari/605.1.15'}\n"
   ]
  },
  {
   "cell_type": "code",
   "execution_count": 200,
   "metadata": {},
   "outputs": [],
   "source": [
    "#вставить ссылку с поискового запроса на hh\n",
    "base_url = 'https://hh.ru/search/vacancy?area=1&clusters=true&enable_snippets=true&text=python+analyst&specialization=1.25&from=cluster_specialization&showClusters=true'"
   ]
  },
  {
   "cell_type": "code",
   "execution_count": 201,
   "metadata": {},
   "outputs": [],
   "source": [
    "pagination_url = base_url + '&page'"
   ]
  },
  {
   "cell_type": "code",
   "execution_count": 202,
   "metadata": {},
   "outputs": [
    {
     "data": {
      "text/plain": [
       "'https://hh.ru/search/vacancy?area=1&clusters=true&enable_snippets=true&text=python+analyst&specialization=1.25&from=cluster_specialization&showClusters=true&page'"
      ]
     },
     "execution_count": 202,
     "metadata": {},
     "output_type": "execute_result"
    }
   ],
   "source": [
    "pagination_url"
   ]
  },
  {
   "cell_type": "code",
   "execution_count": 203,
   "metadata": {},
   "outputs": [],
   "source": [
    "urls = []\n",
    "set_of_links = set()\n",
    "session = requests.Session()\n",
    "big_dict = dict()\n",
    "big_dict_requirments = dict()\n",
    "\n",
    "request_ = session.get(base_url, headers=header)\n"
   ]
  },
  {
   "cell_type": "code",
   "execution_count": 204,
   "metadata": {},
   "outputs": [],
   "source": [
    "if request_.status_code == 200:\n",
    "    \n",
    "    soup = bs(request_.content, 'lxml')\n",
    "\n",
    "else:\n",
    "    print('error from hh.ru response')"
   ]
  },
  {
   "cell_type": "code",
   "execution_count": 206,
   "metadata": {},
   "outputs": [],
   "source": [
    "try:\n",
    "    pagination = soup.find_all('a', attrs={'data-qa': 'pager-page'})\n",
    "    number_of_pages = int(pagination[-1].text)\n",
    "    for i in range(number_of_pages + 1):\n",
    "        url = f'{pagination_url}={i}'\n",
    "        if url not in urls:\n",
    "            urls.append(url)\n",
    "except:\n",
    "    print(request.status_code)"
   ]
  },
  {
   "cell_type": "code",
   "execution_count": 223,
   "metadata": {},
   "outputs": [
    {
     "data": {
      "text/plain": [
       "10"
      ]
     },
     "execution_count": 223,
     "metadata": {},
     "output_type": "execute_result"
    }
   ],
   "source": [
    "number_of_pages"
   ]
  },
  {
   "cell_type": "code",
   "execution_count": 207,
   "metadata": {},
   "outputs": [],
   "source": [
    "# получаем множество ссылок на вакансии set_of_links \n",
    "# и создаем словарь big_dict с ключем ссылка на вакансию и значением списком компания и должность\n",
    "for url in urls:\n",
    "    request = session.get(url, headers=header)\n",
    "    soup = bs(request.content, 'lxml')\n",
    "    divs = soup.find_all('div', attrs={'data-qa': 'vacancy-serp__vacancy'})\n",
    "    for div in divs:\n",
    "        title = div.find('a', attrs={'data-qa': 'vacancy-serp__vacancy-title'}).text\n",
    "        href = div.find('a', attrs={'data-qa': 'vacancy-serp__vacancy-title'})['href']\n",
    "        try:\n",
    "            company = div.find('a', attrs={'data-qa': 'vacancy-serp__vacancy-employer'}).text\n",
    "        except:\n",
    "            company = div.find('div', 'vacancy-serp-item__meta-info').text\n",
    "        big_dict[href] = [company, title]\n",
    "        set_of_links.add(href)"
   ]
  },
  {
   "cell_type": "code",
   "execution_count": 208,
   "metadata": {},
   "outputs": [
    {
     "data": {
      "text/plain": [
       "470"
      ]
     },
     "execution_count": 208,
     "metadata": {},
     "output_type": "execute_result"
    }
   ],
   "source": [
    "#Количество вакансий \n",
    "len(set_of_links)"
   ]
  },
  {
   "cell_type": "code",
   "execution_count": 209,
   "metadata": {},
   "outputs": [],
   "source": [
    "# !!! ATTENTION для 20 страниц поисковой выдачи выполнение может занимать до 5 минут!! \n",
    "\n",
    "#составляем словарь big_dict_requirments ключевых навыков для каждой вакансии,\n",
    "#если в вакансии не указан ключевые навыки, то заполняем пустой строкой\n",
    "\n",
    "for vacancy_link in set_of_links:\n",
    "    key_skills_list = []\n",
    "    request = session.get(vacancy_link, headers=header)\n",
    "    soup = bs(request.content, 'lxml')\n",
    "\n",
    "    description = soup.find('div', attrs={'class': 'vacancy-description'})\n",
    "    \n",
    "    for row in description:\n",
    "        key_skills = description.find_all('span', attrs={'data-qa': 'bloko-tag__text'})\n",
    "        \n",
    "    for key_skill in key_skills:\n",
    "        key_skills_list.append(key_skill.text)\n",
    "        \n",
    "    if key_skills_list != []:\n",
    "        big_dict_requirments[vacancy_link] = key_skills_list\n",
    "    else:\n",
    "        big_dict_requirments[vacancy_link] = ''"
   ]
  },
  {
   "cell_type": "code",
   "execution_count": 210,
   "metadata": {},
   "outputs": [],
   "source": [
    "#создаем df с колонками: 1) ссылка на вакансию(уникальный ключ/индекс таблицы), 2) компанией и 3) названием должности/позиции\n",
    "general_df = pd.DataFrame.from_dict(data=big_dict, columns=['company', 'title'], orient='index').reset_index()\n",
    "general_df = general_df.rename(columns={'index':'link'})\n",
    "\n",
    "#создаем df с колонками: 1) ссылка на вакансию(уникальный ключ), 2) список ключевых навыков\n",
    "description_df = pd.DataFrame.from_dict(data=big_dict_requirments, columns=['key_skills'], orient='index').reset_index()\n",
    "description_df = description_df.rename(columns={'index':'link'})\n",
    "\n",
    "#объединяем два df по ключу ссылка\n",
    "total_df = general_df.merge(description_df, on='link')"
   ]
  },
  {
   "cell_type": "code",
   "execution_count": 211,
   "metadata": {},
   "outputs": [
    {
     "data": {
      "text/html": [
       "<div>\n",
       "<style scoped>\n",
       "    .dataframe tbody tr th:only-of-type {\n",
       "        vertical-align: middle;\n",
       "    }\n",
       "\n",
       "    .dataframe tbody tr th {\n",
       "        vertical-align: top;\n",
       "    }\n",
       "\n",
       "    .dataframe thead th {\n",
       "        text-align: right;\n",
       "    }\n",
       "</style>\n",
       "<table border=\"1\" class=\"dataframe\">\n",
       "  <thead>\n",
       "    <tr style=\"text-align: right;\">\n",
       "      <th></th>\n",
       "      <th>link</th>\n",
       "      <th>company</th>\n",
       "      <th>title</th>\n",
       "      <th>key_skills</th>\n",
       "    </tr>\n",
       "  </thead>\n",
       "  <tbody>\n",
       "    <tr>\n",
       "      <th>0</th>\n",
       "      <td>https://hh.ru/vacancy/34533419?query=python%20...</td>\n",
       "      <td>ManyChat</td>\n",
       "      <td>Intern/Junior Data Analyst</td>\n",
       "      <td>[Математическая статистика, MS SQL, R, Python,...</td>\n",
       "    </tr>\n",
       "    <tr>\n",
       "      <th>1</th>\n",
       "      <td>https://hh.ru/vacancy/31648507?query=python%20...</td>\n",
       "      <td>ManyChat</td>\n",
       "      <td>Senior Product / Data Analyst</td>\n",
       "      <td>[Анализ бизнес показателей, Анализ временных р...</td>\n",
       "    </tr>\n",
       "    <tr>\n",
       "      <th>2</th>\n",
       "      <td>https://hh.ru/vacancy/36024461?query=python%20...</td>\n",
       "      <td>ООО НТС</td>\n",
       "      <td>Аналитик данных</td>\n",
       "      <td>[SQL, Python, Data Mining, Data Analysis, Анал...</td>\n",
       "    </tr>\n",
       "    <tr>\n",
       "      <th>3</th>\n",
       "      <td>https://hh.ru/vacancy/35945229?query=python%20...</td>\n",
       "      <td>Ремонтиста</td>\n",
       "      <td>Аналитик данных</td>\n",
       "      <td>[Python, Математическое моделирование, Управле...</td>\n",
       "    </tr>\n",
       "    <tr>\n",
       "      <th>4</th>\n",
       "      <td>https://hh.ru/vacancy/36024905?query=python%20...</td>\n",
       "      <td>ДомКлик</td>\n",
       "      <td>Аналитик данных</td>\n",
       "      <td>[SQL, Аналитические исследования, Статистическ...</td>\n",
       "    </tr>\n",
       "  </tbody>\n",
       "</table>\n",
       "</div>"
      ],
      "text/plain": [
       "                                                link      company  \\\n",
       "0  https://hh.ru/vacancy/34533419?query=python%20...     ManyChat   \n",
       "1  https://hh.ru/vacancy/31648507?query=python%20...     ManyChat   \n",
       "2  https://hh.ru/vacancy/36024461?query=python%20...      ООО НТС   \n",
       "3  https://hh.ru/vacancy/35945229?query=python%20...   Ремонтиста   \n",
       "4  https://hh.ru/vacancy/36024905?query=python%20...      ДомКлик   \n",
       "\n",
       "                           title  \\\n",
       "0     Intern/Junior Data Analyst   \n",
       "1  Senior Product / Data Analyst   \n",
       "2                Аналитик данных   \n",
       "3                Аналитик данных   \n",
       "4                Аналитик данных   \n",
       "\n",
       "                                          key_skills  \n",
       "0  [Математическая статистика, MS SQL, R, Python,...  \n",
       "1  [Анализ бизнес показателей, Анализ временных р...  \n",
       "2  [SQL, Python, Data Mining, Data Analysis, Анал...  \n",
       "3  [Python, Математическое моделирование, Управле...  \n",
       "4  [SQL, Аналитические исследования, Статистическ...  "
      ]
     },
     "execution_count": 211,
     "metadata": {},
     "output_type": "execute_result"
    }
   ],
   "source": [
    "total_df.head()"
   ]
  },
  {
   "cell_type": "code",
   "execution_count": 235,
   "metadata": {},
   "outputs": [
    {
     "data": {
      "text/html": [
       "<div>\n",
       "<style scoped>\n",
       "    .dataframe tbody tr th:only-of-type {\n",
       "        vertical-align: middle;\n",
       "    }\n",
       "\n",
       "    .dataframe tbody tr th {\n",
       "        vertical-align: top;\n",
       "    }\n",
       "\n",
       "    .dataframe thead th {\n",
       "        text-align: right;\n",
       "    }\n",
       "</style>\n",
       "<table border=\"1\" class=\"dataframe\">\n",
       "  <thead>\n",
       "    <tr style=\"text-align: right;\">\n",
       "      <th></th>\n",
       "      <th>title</th>\n",
       "    </tr>\n",
       "  </thead>\n",
       "  <tbody>\n",
       "    <tr>\n",
       "      <th>Аналитик данных</th>\n",
       "      <td>21</td>\n",
       "    </tr>\n",
       "    <tr>\n",
       "      <th>Аналитик</th>\n",
       "      <td>20</td>\n",
       "    </tr>\n",
       "    <tr>\n",
       "      <th>Аналитик BI</th>\n",
       "      <td>8</td>\n",
       "    </tr>\n",
       "    <tr>\n",
       "      <th>Продуктовый аналитик</th>\n",
       "      <td>8</td>\n",
       "    </tr>\n",
       "    <tr>\n",
       "      <th>Системный аналитик</th>\n",
       "      <td>7</td>\n",
       "    </tr>\n",
       "    <tr>\n",
       "      <th>Data Scientist</th>\n",
       "      <td>6</td>\n",
       "    </tr>\n",
       "    <tr>\n",
       "      <th>Бизнес-аналитик</th>\n",
       "      <td>5</td>\n",
       "    </tr>\n",
       "    <tr>\n",
       "      <th>Data Analyst</th>\n",
       "      <td>3</td>\n",
       "    </tr>\n",
       "    <tr>\n",
       "      <th>Продуктовый Аналитик</th>\n",
       "      <td>3</td>\n",
       "    </tr>\n",
       "    <tr>\n",
       "      <th>Data scientist</th>\n",
       "      <td>3</td>\n",
       "    </tr>\n",
       "    <tr>\n",
       "      <th>Data Engineer</th>\n",
       "      <td>3</td>\n",
       "    </tr>\n",
       "    <tr>\n",
       "      <th>Аналитик данных (data scientist)</th>\n",
       "      <td>3</td>\n",
       "    </tr>\n",
       "    <tr>\n",
       "      <th>Web-аналитик</th>\n",
       "      <td>3</td>\n",
       "    </tr>\n",
       "    <tr>\n",
       "      <th>Product Analyst</th>\n",
       "      <td>2</td>\n",
       "    </tr>\n",
       "    <tr>\n",
       "      <th>Junior Data Analyst</th>\n",
       "      <td>2</td>\n",
       "    </tr>\n",
       "  </tbody>\n",
       "</table>\n",
       "</div>"
      ],
      "text/plain": [
       "                                  title\n",
       "Аналитик данных                      21\n",
       "Аналитик                             20\n",
       "Аналитик BI                           8\n",
       "Продуктовый аналитик                  8\n",
       "Системный аналитик                    7\n",
       "Data Scientist                        6\n",
       "Бизнес-аналитик                       5\n",
       "Data Analyst                          3\n",
       "Продуктовый Аналитик                  3\n",
       "Data scientist                        3\n",
       "Data Engineer                         3\n",
       "Аналитик данных (data scientist)      3\n",
       "Web-аналитик                          3\n",
       "Product Analyst                       2\n",
       "Junior Data Analyst                   2"
      ]
     },
     "execution_count": 235,
     "metadata": {},
     "output_type": "execute_result"
    }
   ],
   "source": [
    "#топ-15 названий вакансий по частоте\n",
    "total_df['title'].value_counts().to_frame().head(15)"
   ]
  },
  {
   "cell_type": "code",
   "execution_count": 243,
   "metadata": {},
   "outputs": [],
   "source": [
    "def company_agg(df):\n",
    "    company = df['company']\n",
    "    \n",
    "    if 'OZON' in company:\n",
    "        return 'OZON'\n",
    "    elif 'Mail.Ru' in company:\n",
    "        return 'Mail.Ru'\n",
    "    elif 'Сбербанк' in company:\n",
    "        return 'Sberbank'\n",
    "    else:\n",
    "        return company\n",
    "    "
   ]
  },
  {
   "cell_type": "code",
   "execution_count": 244,
   "metadata": {},
   "outputs": [],
   "source": [
    "total_df['company_adj'] = total_df.apply(company_agg, axis=1)"
   ]
  },
  {
   "cell_type": "code",
   "execution_count": 245,
   "metadata": {},
   "outputs": [
    {
     "data": {
      "text/html": [
       "<div>\n",
       "<style scoped>\n",
       "    .dataframe tbody tr th:only-of-type {\n",
       "        vertical-align: middle;\n",
       "    }\n",
       "\n",
       "    .dataframe tbody tr th {\n",
       "        vertical-align: top;\n",
       "    }\n",
       "\n",
       "    .dataframe thead th {\n",
       "        text-align: right;\n",
       "    }\n",
       "</style>\n",
       "<table border=\"1\" class=\"dataframe\">\n",
       "  <thead>\n",
       "    <tr style=\"text-align: right;\">\n",
       "      <th></th>\n",
       "      <th>company_adj</th>\n",
       "    </tr>\n",
       "  </thead>\n",
       "  <tbody>\n",
       "    <tr>\n",
       "      <th>Mail.Ru</th>\n",
       "      <td>17</td>\n",
       "    </tr>\n",
       "    <tr>\n",
       "      <th>Skyeng</th>\n",
       "      <td>13</td>\n",
       "    </tr>\n",
       "    <tr>\n",
       "      <th>Sberbank</th>\n",
       "      <td>12</td>\n",
       "    </tr>\n",
       "    <tr>\n",
       "      <th>Банк ВТБ (ПАО)</th>\n",
       "      <td>11</td>\n",
       "    </tr>\n",
       "    <tr>\n",
       "      <th>OZON</th>\n",
       "      <td>11</td>\n",
       "    </tr>\n",
       "    <tr>\n",
       "      <th>Яндекс</th>\n",
       "      <td>11</td>\n",
       "    </tr>\n",
       "    <tr>\n",
       "      <th>Тинькофф</th>\n",
       "      <td>10</td>\n",
       "    </tr>\n",
       "    <tr>\n",
       "      <th>Авито</th>\n",
       "      <td>7</td>\n",
       "    </tr>\n",
       "    <tr>\n",
       "      <th>Tele2</th>\n",
       "      <td>7</td>\n",
       "    </tr>\n",
       "    <tr>\n",
       "      <th>Леруа Мерлен. Центральный офис</th>\n",
       "      <td>6</td>\n",
       "    </tr>\n",
       "    <tr>\n",
       "      <th>АО Газпромбанк</th>\n",
       "      <td>6</td>\n",
       "    </tr>\n",
       "    <tr>\n",
       "      <th>QIWI</th>\n",
       "      <td>6</td>\n",
       "    </tr>\n",
       "    <tr>\n",
       "      <th>«Почта России», Офис</th>\n",
       "      <td>5</td>\n",
       "    </tr>\n",
       "    <tr>\n",
       "      <th>SPN</th>\n",
       "      <td>5</td>\n",
       "    </tr>\n",
       "    <tr>\n",
       "      <th>Компания «СПОРТМАСТЕР», SM Lab</th>\n",
       "      <td>5</td>\n",
       "    </tr>\n",
       "  </tbody>\n",
       "</table>\n",
       "</div>"
      ],
      "text/plain": [
       "                                 company_adj\n",
       "Mail.Ru                                   17\n",
       " Skyeng                                   13\n",
       "Sberbank                                  12\n",
       " Банк ВТБ (ПАО)                           11\n",
       "OZON                                      11\n",
       " Яндекс                                   11\n",
       " Тинькофф                                 10\n",
       " Авито                                     7\n",
       " Tele2                                     7\n",
       " Леруа Мерлен. Центральный офис            6\n",
       "АО Газпромбанк                             6\n",
       " QIWI                                      6\n",
       " «Почта России», Офис                      5\n",
       " SPN                                       5\n",
       " Компания «СПОРТМАСТЕР», SM Lab            5"
      ]
     },
     "execution_count": 245,
     "metadata": {},
     "output_type": "execute_result"
    }
   ],
   "source": [
    "#топ-15 компаний по количеству вакансий\n",
    "total_df['company_adj'].value_counts().to_frame().head(15)"
   ]
  },
  {
   "cell_type": "code",
   "execution_count": 213,
   "metadata": {},
   "outputs": [
    {
     "data": {
      "text/plain": [
       "link          110\n",
       "company       110\n",
       "title         110\n",
       "key_skills    110\n",
       "dtype: int64"
      ]
     },
     "execution_count": 213,
     "metadata": {},
     "output_type": "execute_result"
    }
   ],
   "source": [
    "#считаем количество вакансий, где не заполнены ключевые навыки\n",
    "total_df[total_df['key_skills'] == ''].count()"
   ]
  },
  {
   "cell_type": "code",
   "execution_count": 214,
   "metadata": {},
   "outputs": [
    {
     "data": {
      "text/plain": [
       "link          0.234043\n",
       "company       0.234043\n",
       "title         0.234043\n",
       "key_skills    0.234043\n",
       "dtype: float64"
      ]
     },
     "execution_count": 214,
     "metadata": {},
     "output_type": "execute_result"
    }
   ],
   "source": [
    "#считаем долю вакансий, где не заполнены ключевые навыки\n",
    "total_df[total_df['key_skills'] == ''].count() / total_df.count()"
   ]
  },
  {
   "cell_type": "code",
   "execution_count": 215,
   "metadata": {},
   "outputs": [
    {
     "data": {
      "text/html": [
       "<div>\n",
       "<style scoped>\n",
       "    .dataframe tbody tr th:only-of-type {\n",
       "        vertical-align: middle;\n",
       "    }\n",
       "\n",
       "    .dataframe tbody tr th {\n",
       "        vertical-align: top;\n",
       "    }\n",
       "\n",
       "    .dataframe thead th {\n",
       "        text-align: right;\n",
       "    }\n",
       "</style>\n",
       "<table border=\"1\" class=\"dataframe\">\n",
       "  <thead>\n",
       "    <tr style=\"text-align: right;\">\n",
       "      <th></th>\n",
       "      <th>title</th>\n",
       "    </tr>\n",
       "    <tr>\n",
       "      <th>company</th>\n",
       "      <th></th>\n",
       "    </tr>\n",
       "  </thead>\n",
       "  <tbody>\n",
       "    <tr>\n",
       "      <th>Банк ВТБ (ПАО)</th>\n",
       "      <td>7</td>\n",
       "    </tr>\n",
       "    <tr>\n",
       "      <th>Авито</th>\n",
       "      <td>6</td>\n",
       "    </tr>\n",
       "    <tr>\n",
       "      <th>АО ДОМ.РФ</th>\n",
       "      <td>4</td>\n",
       "    </tr>\n",
       "    <tr>\n",
       "      <th>QIWI</th>\n",
       "      <td>4</td>\n",
       "    </tr>\n",
       "    <tr>\n",
       "      <th>Яндекс</th>\n",
       "      <td>3</td>\n",
       "    </tr>\n",
       "    <tr>\n",
       "      <th>ООО Ростелеком Информационные Технологии</th>\n",
       "      <td>3</td>\n",
       "    </tr>\n",
       "    <tr>\n",
       "      <th>ivi</th>\n",
       "      <td>3</td>\n",
       "    </tr>\n",
       "    <tr>\n",
       "      <th>Tele2</th>\n",
       "      <td>3</td>\n",
       "    </tr>\n",
       "    <tr>\n",
       "      <th>Руформ</th>\n",
       "      <td>3</td>\n",
       "    </tr>\n",
       "    <tr>\n",
       "      <th>Леруа Мерлен. Центральный офис</th>\n",
       "      <td>2</td>\n",
       "    </tr>\n",
       "  </tbody>\n",
       "</table>\n",
       "</div>"
      ],
      "text/plain": [
       "                                          title\n",
       "company                                        \n",
       " Банк ВТБ (ПАО)                               7\n",
       " Авито                                        6\n",
       "АО ДОМ.РФ                                     4\n",
       " QIWI                                         4\n",
       " Яндекс                                       3\n",
       "ООО Ростелеком Информационные Технологии      3\n",
       " ivi                                          3\n",
       " Tele2                                        3\n",
       " Руформ                                       3\n",
       " Леруа Мерлен. Центральный офис               2"
      ]
     },
     "execution_count": 215,
     "metadata": {},
     "output_type": "execute_result"
    }
   ],
   "source": [
    "#топ - 10 компаний, которые не заполнили ключевые навыки в вакансии, отсортированные по количеству вакансий\n",
    "total_df[total_df['key_skills']== ''].groupby('company').agg({'title':'count'})\\\n",
    "    .sort_values(by='title', ascending=False).head(10)"
   ]
  },
  {
   "cell_type": "code",
   "execution_count": 216,
   "metadata": {},
   "outputs": [
    {
     "name": "stdout",
     "output_type": "stream",
     "text": [
      "<class 'pandas.core.frame.DataFrame'>\n",
      "Int64Index: 470 entries, 0 to 469\n",
      "Data columns (total 4 columns):\n",
      "link          470 non-null object\n",
      "company       470 non-null object\n",
      "title         470 non-null object\n",
      "key_skills    470 non-null object\n",
      "dtypes: object(4)\n",
      "memory usage: 38.4+ KB\n"
     ]
    }
   ],
   "source": [
    "total_df.info()"
   ]
  },
  {
   "cell_type": "code",
   "execution_count": 217,
   "metadata": {},
   "outputs": [],
   "source": [
    "#функция возвращает словарь, в котором считаем частоту ключвых навыков, по колонке 'key_skills' в df\n",
    "def words_counter(df):\n",
    "    merged = dict()\n",
    "    for row in df['key_skills']:\n",
    "        if row is None:\n",
    "            pass\n",
    "        else:\n",
    "            for word in row:\n",
    "                if word in merged:\n",
    "                    merged[word] += 1\n",
    "                else:\n",
    "                    merged[word] = 1\n",
    "    return {k: v for k, v in sorted(merged.items(), key=lambda item: item[1], reverse=True)}\n",
    "    "
   ]
  },
  {
   "cell_type": "code",
   "execution_count": 218,
   "metadata": {},
   "outputs": [],
   "source": [
    "words_counter = words_counter(total_df)"
   ]
  },
  {
   "cell_type": "code",
   "execution_count": 219,
   "metadata": {},
   "outputs": [],
   "source": [
    "# создаем df с ключемвыми навыками и их частотой\n",
    "skills_df = pd.DataFrame.from_dict(data=words_counter, columns=['skill'], orient='index').reset_index()"
   ]
  },
  {
   "cell_type": "code",
   "execution_count": 220,
   "metadata": {},
   "outputs": [],
   "source": [
    "skills_df = skills_df.rename(columns={'index':'skill_', 'skill': 'count'})"
   ]
  },
  {
   "cell_type": "code",
   "execution_count": 248,
   "metadata": {},
   "outputs": [
    {
     "data": {
      "text/html": [
       "<div>\n",
       "<style scoped>\n",
       "    .dataframe tbody tr th:only-of-type {\n",
       "        vertical-align: middle;\n",
       "    }\n",
       "\n",
       "    .dataframe tbody tr th {\n",
       "        vertical-align: top;\n",
       "    }\n",
       "\n",
       "    .dataframe thead th {\n",
       "        text-align: right;\n",
       "    }\n",
       "</style>\n",
       "<table border=\"1\" class=\"dataframe\">\n",
       "  <thead>\n",
       "    <tr style=\"text-align: right;\">\n",
       "      <th></th>\n",
       "      <th>skill_</th>\n",
       "      <th>count</th>\n",
       "    </tr>\n",
       "  </thead>\n",
       "  <tbody>\n",
       "    <tr>\n",
       "      <th>0</th>\n",
       "      <td>Python</td>\n",
       "      <td>266</td>\n",
       "    </tr>\n",
       "    <tr>\n",
       "      <th>1</th>\n",
       "      <td>SQL</td>\n",
       "      <td>247</td>\n",
       "    </tr>\n",
       "    <tr>\n",
       "      <th>2</th>\n",
       "      <td>MS SQL</td>\n",
       "      <td>64</td>\n",
       "    </tr>\n",
       "    <tr>\n",
       "      <th>3</th>\n",
       "      <td>Анализ данных</td>\n",
       "      <td>54</td>\n",
       "    </tr>\n",
       "    <tr>\n",
       "      <th>4</th>\n",
       "      <td>Data Mining</td>\n",
       "      <td>46</td>\n",
       "    </tr>\n",
       "    <tr>\n",
       "      <th>5</th>\n",
       "      <td>Английский язык</td>\n",
       "      <td>43</td>\n",
       "    </tr>\n",
       "    <tr>\n",
       "      <th>6</th>\n",
       "      <td>Статистический анализ</td>\n",
       "      <td>39</td>\n",
       "    </tr>\n",
       "    <tr>\n",
       "      <th>7</th>\n",
       "      <td>Математическая статистика</td>\n",
       "      <td>35</td>\n",
       "    </tr>\n",
       "    <tr>\n",
       "      <th>8</th>\n",
       "      <td>Аналитические исследования</td>\n",
       "      <td>32</td>\n",
       "    </tr>\n",
       "    <tr>\n",
       "      <th>9</th>\n",
       "      <td>Бизнес-анализ</td>\n",
       "      <td>30</td>\n",
       "    </tr>\n",
       "    <tr>\n",
       "      <th>10</th>\n",
       "      <td>MS PowerPoint</td>\n",
       "      <td>30</td>\n",
       "    </tr>\n",
       "    <tr>\n",
       "      <th>11</th>\n",
       "      <td>VBA</td>\n",
       "      <td>28</td>\n",
       "    </tr>\n",
       "    <tr>\n",
       "      <th>12</th>\n",
       "      <td>Google Analytics</td>\n",
       "      <td>27</td>\n",
       "    </tr>\n",
       "    <tr>\n",
       "      <th>13</th>\n",
       "      <td>Математическое моделирование</td>\n",
       "      <td>26</td>\n",
       "    </tr>\n",
       "    <tr>\n",
       "      <th>14</th>\n",
       "      <td>Data Analysis</td>\n",
       "      <td>24</td>\n",
       "    </tr>\n",
       "    <tr>\n",
       "      <th>15</th>\n",
       "      <td>Аналитическое мышление</td>\n",
       "      <td>24</td>\n",
       "    </tr>\n",
       "    <tr>\n",
       "      <th>16</th>\n",
       "      <td>PostgreSQL</td>\n",
       "      <td>23</td>\n",
       "    </tr>\n",
       "    <tr>\n",
       "      <th>17</th>\n",
       "      <td>Java</td>\n",
       "      <td>23</td>\n",
       "    </tr>\n",
       "    <tr>\n",
       "      <th>18</th>\n",
       "      <td>R</td>\n",
       "      <td>21</td>\n",
       "    </tr>\n",
       "    <tr>\n",
       "      <th>19</th>\n",
       "      <td>Git</td>\n",
       "      <td>21</td>\n",
       "    </tr>\n",
       "  </tbody>\n",
       "</table>\n",
       "</div>"
      ],
      "text/plain": [
       "                          skill_  count\n",
       "0                         Python    266\n",
       "1                            SQL    247\n",
       "2                         MS SQL     64\n",
       "3                  Анализ данных     54\n",
       "4                    Data Mining     46\n",
       "5                Английский язык     43\n",
       "6          Статистический анализ     39\n",
       "7      Математическая статистика     35\n",
       "8     Аналитические исследования     32\n",
       "9                  Бизнес-анализ     30\n",
       "10                 MS PowerPoint     30\n",
       "11                           VBA     28\n",
       "12              Google Analytics     27\n",
       "13  Математическое моделирование     26\n",
       "14                 Data Analysis     24\n",
       "15        Аналитическое мышление     24\n",
       "16                    PostgreSQL     23\n",
       "17                          Java     23\n",
       "18                             R     21\n",
       "19                           Git     21"
      ]
     },
     "execution_count": 248,
     "metadata": {},
     "output_type": "execute_result"
    }
   ],
   "source": [
    "#выводим топ-20 ключевых навыков по частоте\n",
    "skills_df.head(20)"
   ]
  },
  {
   "cell_type": "code",
   "execution_count": 246,
   "metadata": {},
   "outputs": [
    {
     "data": {
      "text/plain": [
       "2198"
      ]
     },
     "execution_count": 246,
     "metadata": {},
     "output_type": "execute_result"
    }
   ],
   "source": [
    "skills_df['count'].sum()"
   ]
  },
  {
   "cell_type": "code",
   "execution_count": 249,
   "metadata": {},
   "outputs": [
    {
     "data": {
      "text/plain": [
       "1103"
      ]
     },
     "execution_count": 249,
     "metadata": {},
     "output_type": "execute_result"
    }
   ],
   "source": [
    "skills_df.head(20)['count'].sum()"
   ]
  },
  {
   "cell_type": "code",
   "execution_count": 250,
   "metadata": {},
   "outputs": [
    {
     "data": {
      "image/png": "[encoded data removed]",
      "text/plain": [
       "<Figure size 432x288 with 1 Axes>"
      ]
     },
     "metadata": {},
     "output_type": "display_data"
    }
   ],
   "source": [
    "fig1, ax1 = plt.subplots()\n",
    "ax1.pie(skills_df.head(20)['count'], labels=skills_df.head(20)['skill_'], autopct='%1.1f%%',\n",
    "        shadow=True, startangle=90)\n",
    "ax1.axis('equal')  # Equal aspect ratio ensures that pie is drawn as a circle.\n",
    "ax1.set_title(\"Топ-20 ключевых навыков\")\n",
    "plt.show()"
   ]
  },
  {
   "cell_type": "code",
   "execution_count": null,
   "metadata": {},
   "outputs": [],
   "source": []
  }
 ],
 "metadata": {
  "hide_input": false,
  "kernelspec": {
   "display_name": "Python 3",
   "language": "python",
   "name": "python3"
  },
  "language_info": {
   "codemirror_mode": {
    "name": "ipython",
    "version": 3
   },
   "file_extension": ".py",
   "mimetype": "text/x-python",
   "name": "python",
   "nbconvert_exporter": "python",
   "pygments_lexer": "ipython3",
   "version": "3.7.1"
  }
 },
 "nbformat": 4,
 "nbformat_minor": 2
}
