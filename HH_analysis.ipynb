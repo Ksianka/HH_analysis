{
 "cells": [
  {
   "cell_type": "code",
   "execution_count": 173,
   "metadata": {},
   "outputs": [],
   "source": [
    "import requests\n",
    "import csv\n",
    "from bs4 import BeautifulSoup as bs\n",
    "import pandas as pd\n",
    "from pymystem3 import Mystem\n",
    "import plotly.express as px\n",
    "import matplotlib.pyplot as plt"
   ]
  },
  {
   "cell_type": "code",
   "execution_count": 174,
   "metadata": {},
   "outputs": [],
   "source": [
    "header = {'Accept': '*/*', \n",
    "              'User-Agent': 'Mozilla/5.0 (Macintosh; Intel Mac OS X 10_14_4) AppleWebKit/605.1.15 (KHTML, like Gecko) Version/12.1 Safari/605.1.15'}\n"
   ]
  },
  {
   "cell_type": "code",
   "execution_count": 175,
   "metadata": {},
   "outputs": [],
   "source": [
    "#вставить ссылку с поискового запроса на hh\n",
    "base_url = 'https://hh.ru/search/vacancy?clusters=true&area=1&enable_snippets=true&salary=&st=searchVacancy&text=python+analyst'"
   ]
  },
  {
   "cell_type": "code",
   "execution_count": 176,
   "metadata": {},
   "outputs": [],
   "source": [
    "pagination_url = base_url + '&page'"
   ]
  },
  {
   "cell_type": "code",
   "execution_count": 177,
   "metadata": {},
   "outputs": [
    {
     "data": {
      "text/plain": [
       "'https://hh.ru/search/vacancy?clusters=true&area=1&enable_snippets=true&salary=&st=searchVacancy&text=python+analyst&page'"
      ]
     },
     "execution_count": 177,
     "metadata": {},
     "output_type": "execute_result"
    }
   ],
   "source": [
    "pagination_url"
   ]
  },
  {
   "cell_type": "code",
   "execution_count": 178,
   "metadata": {},
   "outputs": [],
   "source": [
    "urls = []\n",
    "set_of_links = set()\n",
    "session = requests.Session()\n",
    "big_dict = dict()\n",
    "big_dict_requirments = dict()\n",
    "\n",
    "request_ = session.get(base_url, headers=header)\n"
   ]
  },
  {
   "cell_type": "code",
   "execution_count": 179,
   "metadata": {},
   "outputs": [],
   "source": [
    "if request_.status_code == 200:\n",
    "    \n",
    "    soup = bs(request_.content, 'lxml')\n",
    "\n",
    "else:\n",
    "    print('error from hh.ru response')"
   ]
  },
  {
   "cell_type": "code",
   "execution_count": 180,
   "metadata": {},
   "outputs": [
    {
     "data": {
      "text/plain": [
       "20"
      ]
     },
     "execution_count": 180,
     "metadata": {},
     "output_type": "execute_result"
    }
   ],
   "source": [
    "number_of_pages"
   ]
  },
  {
   "cell_type": "code",
   "execution_count": 181,
   "metadata": {},
   "outputs": [],
   "source": [
    "try:\n",
    "    pagination = soup.find_all('a', attrs={'data-qa': 'pager-page'})\n",
    "    number_of_pages = int(pagination[-1].text)\n",
    "    for i in range(number_of_pages + 1):\n",
    "        url = f'{pagination_url}={i}'\n",
    "        if url not in urls:\n",
    "            urls.append(url)\n",
    "except:\n",
    "    print(request.status_code)"
   ]
  },
  {
   "cell_type": "code",
   "execution_count": 182,
   "metadata": {},
   "outputs": [],
   "source": [
    "# получаем множество ссылок на вакансии set_of_links \n",
    "# и создаем словарь big_dict с ключем ссылка на вакансию и значением списком компания и должность\n",
    "for url in urls:\n",
    "    request = session.get(url, headers=header)\n",
    "    soup = bs(request.content, 'lxml')\n",
    "    divs = soup.find_all('div', attrs={'data-qa': 'vacancy-serp__vacancy'})\n",
    "    for div in divs:\n",
    "        title = div.find('a', attrs={'data-qa': 'vacancy-serp__vacancy-title'}).text\n",
    "        href = div.find('a', attrs={'data-qa': 'vacancy-serp__vacancy-title'})['href']\n",
    "        try:\n",
    "            company = div.find('a', attrs={'data-qa': 'vacancy-serp__vacancy-employer'}).text\n",
    "        except:\n",
    "            company = div.find('div', 'vacancy-serp-item__meta-info').text\n",
    "        big_dict[href] = [company, title]\n",
    "        set_of_links.add(href)"
   ]
  },
  {
   "cell_type": "code",
   "execution_count": 183,
   "metadata": {},
   "outputs": [
    {
     "data": {
      "text/plain": [
       "964"
      ]
     },
     "execution_count": 183,
     "metadata": {},
     "output_type": "execute_result"
    }
   ],
   "source": [
    "#Количество вакансий \n",
    "len(set_of_links)"
   ]
  },
  {
   "cell_type": "code",
   "execution_count": 184,
   "metadata": {},
   "outputs": [],
   "source": [
    "# !!! ATTENTION для 20 страниц поисковой выдачи выполнение может занимать до 5 минут!! \n",
    "\n",
    "#составляем словарь big_dict_requirments ключевых навыков для каждой вакансии,\n",
    "#если в вакансии не указан ключевые навыки, то заполняем пустой строкой\n",
    "\n",
    "for vacancy_link in set_of_links:\n",
    "    key_skills_list = []\n",
    "    request = session.get(vacancy_link, headers=header)\n",
    "    soup = bs(request.content, 'lxml')\n",
    "\n",
    "    description = soup.find('div', attrs={'class': 'vacancy-description'})\n",
    "    \n",
    "    for row in description:\n",
    "        key_skills = description.find_all('span', attrs={'data-qa': 'bloko-tag__text'})\n",
    "        \n",
    "    for key_skill in key_skills:\n",
    "        key_skills_list.append(key_skill.text)\n",
    "        \n",
    "    if key_skills_list != []:\n",
    "        big_dict_requirments[vacancy_link] = key_skills_list\n",
    "    else:\n",
    "        big_dict_requirments[vacancy_link] = ''"
   ]
  },
  {
   "cell_type": "code",
   "execution_count": 185,
   "metadata": {},
   "outputs": [],
   "source": [
    "#создаем df с колонками: 1) ссылка на вакансию(уникальный ключ/индекс таблицы), 2) компанией и 3) названием должности/позиции\n",
    "general_df = pd.DataFrame.from_dict(data=big_dict, columns=['company', 'title'], orient='index').reset_index()\n",
    "general_df = general_df.rename(columns={'index':'link'})\n",
    "\n",
    "#создаем df с колонками: 1) ссылка на вакансию(уникальный ключ), 2) список ключевых навыков\n",
    "description_df = pd.DataFrame.from_dict(data=big_dict_requirments, columns=['key_skills'], orient='index').reset_index()\n",
    "description_df = description_df.rename(columns={'index':'link'})\n",
    "\n",
    "#объединяем два df по ключу ссылка\n",
    "total_df = general_df.merge(description_df, on='link')"
   ]
  },
  {
   "cell_type": "code",
   "execution_count": 186,
   "metadata": {},
   "outputs": [
    {
     "data": {
      "text/html": [
       "<div>\n",
       "<style scoped>\n",
       "    .dataframe tbody tr th:only-of-type {\n",
       "        vertical-align: middle;\n",
       "    }\n",
       "\n",
       "    .dataframe tbody tr th {\n",
       "        vertical-align: top;\n",
       "    }\n",
       "\n",
       "    .dataframe thead th {\n",
       "        text-align: right;\n",
       "    }\n",
       "</style>\n",
       "<table border=\"1\" class=\"dataframe\">\n",
       "  <thead>\n",
       "    <tr style=\"text-align: right;\">\n",
       "      <th></th>\n",
       "      <th>link</th>\n",
       "      <th>company</th>\n",
       "      <th>title</th>\n",
       "      <th>key_skills</th>\n",
       "    </tr>\n",
       "  </thead>\n",
       "  <tbody>\n",
       "    <tr>\n",
       "      <th>0</th>\n",
       "      <td>https://hh.ru/vacancy/34533419?query=python%20...</td>\n",
       "      <td>ManyChat</td>\n",
       "      <td>Intern/Junior Data Analyst</td>\n",
       "      <td>[Математическая статистика, MS SQL, R, Python,...</td>\n",
       "    </tr>\n",
       "    <tr>\n",
       "      <th>1</th>\n",
       "      <td>https://hh.ru/vacancy/31648507?query=python%20...</td>\n",
       "      <td>ManyChat</td>\n",
       "      <td>Senior Product / Data Analyst</td>\n",
       "      <td>[Анализ бизнес показателей, Анализ временных р...</td>\n",
       "    </tr>\n",
       "    <tr>\n",
       "      <th>2</th>\n",
       "      <td>https://hh.ru/vacancy/33986951?query=python%20...</td>\n",
       "      <td>LATOKEN</td>\n",
       "      <td>Trading Analyst</td>\n",
       "      <td>[Investment Analysis, Investment Banking, Взаи...</td>\n",
       "    </tr>\n",
       "    <tr>\n",
       "      <th>3</th>\n",
       "      <td>https://hh.ru/vacancy/36024461?query=python%20...</td>\n",
       "      <td>ООО НТС</td>\n",
       "      <td>Аналитик данных</td>\n",
       "      <td>[SQL, Python, Data Mining, Data Analysis, Анал...</td>\n",
       "    </tr>\n",
       "    <tr>\n",
       "      <th>4</th>\n",
       "      <td>https://hh.ru/vacancy/36059974?query=python%20...</td>\n",
       "      <td>Агентство 21 век, КЦ</td>\n",
       "      <td>Quantitative Analyst</td>\n",
       "      <td>[Английский — C1 — Продвинутый, Python, Матема...</td>\n",
       "    </tr>\n",
       "  </tbody>\n",
       "</table>\n",
       "</div>"
      ],
      "text/plain": [
       "                                                link                company  \\\n",
       "0  https://hh.ru/vacancy/34533419?query=python%20...               ManyChat   \n",
       "1  https://hh.ru/vacancy/31648507?query=python%20...               ManyChat   \n",
       "2  https://hh.ru/vacancy/33986951?query=python%20...                LATOKEN   \n",
       "3  https://hh.ru/vacancy/36024461?query=python%20...                ООО НТС   \n",
       "4  https://hh.ru/vacancy/36059974?query=python%20...   Агентство 21 век, КЦ   \n",
       "\n",
       "                           title  \\\n",
       "0     Intern/Junior Data Analyst   \n",
       "1  Senior Product / Data Analyst   \n",
       "2                Trading Analyst   \n",
       "3                Аналитик данных   \n",
       "4           Quantitative Analyst   \n",
       "\n",
       "                                          key_skills  \n",
       "0  [Математическая статистика, MS SQL, R, Python,...  \n",
       "1  [Анализ бизнес показателей, Анализ временных р...  \n",
       "2  [Investment Analysis, Investment Banking, Взаи...  \n",
       "3  [SQL, Python, Data Mining, Data Analysis, Анал...  \n",
       "4  [Английский — C1 — Продвинутый, Python, Матема...  "
      ]
     },
     "execution_count": 186,
     "metadata": {},
     "output_type": "execute_result"
    }
   ],
   "source": [
    "total_df.head()"
   ]
  },
  {
   "cell_type": "code",
   "execution_count": 187,
   "metadata": {},
   "outputs": [
    {
     "data": {
      "text/plain": [
       "['Математическая статистика', 'MS SQL', 'R', 'Python', 'Математический анализ']"
      ]
     },
     "execution_count": 187,
     "metadata": {},
     "output_type": "execute_result"
    }
   ],
   "source": [
    "total_df.loc[0,'key_skills']"
   ]
  },
  {
   "cell_type": "code",
   "execution_count": 188,
   "metadata": {},
   "outputs": [
    {
     "data": {
      "text/plain": [
       "link          270\n",
       "company       270\n",
       "title         270\n",
       "key_skills    270\n",
       "dtype: int64"
      ]
     },
     "execution_count": 188,
     "metadata": {},
     "output_type": "execute_result"
    }
   ],
   "source": [
    "#считаем количество вакансий, где не заполнены ключевые навыки\n",
    "total_df[total_df['key_skills'] == ''].count()"
   ]
  },
  {
   "cell_type": "code",
   "execution_count": 189,
   "metadata": {},
   "outputs": [
    {
     "data": {
      "text/plain": [
       "link          0.280083\n",
       "company       0.280083\n",
       "title         0.280083\n",
       "key_skills    0.280083\n",
       "dtype: float64"
      ]
     },
     "execution_count": 189,
     "metadata": {},
     "output_type": "execute_result"
    }
   ],
   "source": [
    "#считаем долю вакансий, где не заполнены ключевые навыки\n",
    "total_df[total_df['key_skills'] == ''].count() / total_df.count()"
   ]
  },
  {
   "cell_type": "code",
   "execution_count": 190,
   "metadata": {},
   "outputs": [
    {
     "data": {
      "text/html": [
       "<div>\n",
       "<style scoped>\n",
       "    .dataframe tbody tr th:only-of-type {\n",
       "        vertical-align: middle;\n",
       "    }\n",
       "\n",
       "    .dataframe tbody tr th {\n",
       "        vertical-align: top;\n",
       "    }\n",
       "\n",
       "    .dataframe thead th {\n",
       "        text-align: right;\n",
       "    }\n",
       "</style>\n",
       "<table border=\"1\" class=\"dataframe\">\n",
       "  <thead>\n",
       "    <tr style=\"text-align: right;\">\n",
       "      <th></th>\n",
       "      <th>title</th>\n",
       "    </tr>\n",
       "    <tr>\n",
       "      <th>company</th>\n",
       "      <th></th>\n",
       "    </tr>\n",
       "  </thead>\n",
       "  <tbody>\n",
       "    <tr>\n",
       "      <th>Сбербанк для экспертов</th>\n",
       "      <td>46</td>\n",
       "    </tr>\n",
       "    <tr>\n",
       "      <th>Банк ВТБ (ПАО)</th>\n",
       "      <td>9</td>\n",
       "    </tr>\n",
       "    <tr>\n",
       "      <th>АО ДОМ.РФ</th>\n",
       "      <td>7</td>\n",
       "    </tr>\n",
       "    <tr>\n",
       "      <th>Тинькофф</th>\n",
       "      <td>6</td>\n",
       "    </tr>\n",
       "    <tr>\n",
       "      <th>Авито</th>\n",
       "      <td>6</td>\n",
       "    </tr>\n",
       "    <tr>\n",
       "      <th>Group-IB</th>\n",
       "      <td>6</td>\n",
       "    </tr>\n",
       "    <tr>\n",
       "      <th>ivi</th>\n",
       "      <td>5</td>\n",
       "    </tr>\n",
       "    <tr>\n",
       "      <th>Леруа Мерлен. Центральный офис</th>\n",
       "      <td>4</td>\n",
       "    </tr>\n",
       "    <tr>\n",
       "      <th>QIWI</th>\n",
       "      <td>4</td>\n",
       "    </tr>\n",
       "    <tr>\n",
       "      <th>Руформ</th>\n",
       "      <td>4</td>\n",
       "    </tr>\n",
       "  </tbody>\n",
       "</table>\n",
       "</div>"
      ],
      "text/plain": [
       "                                 title\n",
       "company                               \n",
       " Сбербанк для экспертов             46\n",
       " Банк ВТБ (ПАО)                      9\n",
       "АО ДОМ.РФ                            7\n",
       " Тинькофф                            6\n",
       " Авито                               6\n",
       " Group-IB                            6\n",
       " ivi                                 5\n",
       " Леруа Мерлен. Центральный офис      4\n",
       " QIWI                                4\n",
       " Руформ                              4"
      ]
     },
     "execution_count": 190,
     "metadata": {},
     "output_type": "execute_result"
    }
   ],
   "source": [
    "#топ - 10 компаний, которые не заполнили ключевые навыки в вакансии, отсортированные по количеству вакансий\n",
    "total_df[total_df['key_skills']== ''].groupby('company').agg({'title':'count'})\\\n",
    "    .sort_values(by='title', ascending=False).head(10)"
   ]
  },
  {
   "cell_type": "code",
   "execution_count": 191,
   "metadata": {},
   "outputs": [
    {
     "name": "stdout",
     "output_type": "stream",
     "text": [
      "<class 'pandas.core.frame.DataFrame'>\n",
      "Int64Index: 964 entries, 0 to 963\n",
      "Data columns (total 4 columns):\n",
      "link          964 non-null object\n",
      "company       964 non-null object\n",
      "title         964 non-null object\n",
      "key_skills    964 non-null object\n",
      "dtypes: object(4)\n",
      "memory usage: 77.7+ KB\n"
     ]
    }
   ],
   "source": [
    "total_df.info()"
   ]
  },
  {
   "cell_type": "code",
   "execution_count": 192,
   "metadata": {},
   "outputs": [],
   "source": [
    "#функция возвращает словарь, в котором считаем частоту ключвых навыков, по колонке 'key_skills' в df\n",
    "def words_counter(df):\n",
    "    merged = dict()\n",
    "    for row in df['key_skills']:\n",
    "        if row is None:\n",
    "            pass\n",
    "        else:\n",
    "            for word in row:\n",
    "                if word in merged:\n",
    "                    merged[word] += 1\n",
    "                else:\n",
    "                    merged[word] = 1\n",
    "    return {k: v for k, v in sorted(merged.items(), key=lambda item: item[1], reverse=True)}\n",
    "    "
   ]
  },
  {
   "cell_type": "code",
   "execution_count": 193,
   "metadata": {},
   "outputs": [],
   "source": [
    "words_counter = words_counter(total_df)"
   ]
  },
  {
   "cell_type": "code",
   "execution_count": 194,
   "metadata": {},
   "outputs": [],
   "source": [
    "# создаем df с ключемвыми навыками и их частотой\n",
    "skills_df = pd.DataFrame.from_dict(data=words_counter, columns=['skill'], orient='index').reset_index()"
   ]
  },
  {
   "cell_type": "code",
   "execution_count": 195,
   "metadata": {},
   "outputs": [],
   "source": [
    "skills_df = skills_df.rename(columns={'index':'skill_', 'skill': 'count'})"
   ]
  },
  {
   "cell_type": "code",
   "execution_count": 196,
   "metadata": {},
   "outputs": [
    {
     "data": {
      "text/html": [
       "<div>\n",
       "<style scoped>\n",
       "    .dataframe tbody tr th:only-of-type {\n",
       "        vertical-align: middle;\n",
       "    }\n",
       "\n",
       "    .dataframe tbody tr th {\n",
       "        vertical-align: top;\n",
       "    }\n",
       "\n",
       "    .dataframe thead th {\n",
       "        text-align: right;\n",
       "    }\n",
       "</style>\n",
       "<table border=\"1\" class=\"dataframe\">\n",
       "  <thead>\n",
       "    <tr style=\"text-align: right;\">\n",
       "      <th></th>\n",
       "      <th>skill_</th>\n",
       "      <th>count</th>\n",
       "    </tr>\n",
       "  </thead>\n",
       "  <tbody>\n",
       "    <tr>\n",
       "      <th>0</th>\n",
       "      <td>Python</td>\n",
       "      <td>478</td>\n",
       "    </tr>\n",
       "    <tr>\n",
       "      <th>1</th>\n",
       "      <td>SQL</td>\n",
       "      <td>397</td>\n",
       "    </tr>\n",
       "    <tr>\n",
       "      <th>2</th>\n",
       "      <td>MS SQL</td>\n",
       "      <td>101</td>\n",
       "    </tr>\n",
       "    <tr>\n",
       "      <th>3</th>\n",
       "      <td>Linux</td>\n",
       "      <td>75</td>\n",
       "    </tr>\n",
       "    <tr>\n",
       "      <th>4</th>\n",
       "      <td>Анализ данных</td>\n",
       "      <td>71</td>\n",
       "    </tr>\n",
       "    <tr>\n",
       "      <th>5</th>\n",
       "      <td>Английский язык</td>\n",
       "      <td>71</td>\n",
       "    </tr>\n",
       "    <tr>\n",
       "      <th>6</th>\n",
       "      <td>Java</td>\n",
       "      <td>69</td>\n",
       "    </tr>\n",
       "    <tr>\n",
       "      <th>7</th>\n",
       "      <td>Data Mining</td>\n",
       "      <td>68</td>\n",
       "    </tr>\n",
       "    <tr>\n",
       "      <th>8</th>\n",
       "      <td>Git</td>\n",
       "      <td>66</td>\n",
       "    </tr>\n",
       "    <tr>\n",
       "      <th>9</th>\n",
       "      <td>PostgreSQL</td>\n",
       "      <td>61</td>\n",
       "    </tr>\n",
       "    <tr>\n",
       "      <th>10</th>\n",
       "      <td>Статистический анализ</td>\n",
       "      <td>52</td>\n",
       "    </tr>\n",
       "    <tr>\n",
       "      <th>11</th>\n",
       "      <td>Математическая статистика</td>\n",
       "      <td>49</td>\n",
       "    </tr>\n",
       "    <tr>\n",
       "      <th>12</th>\n",
       "      <td>VBA</td>\n",
       "      <td>48</td>\n",
       "    </tr>\n",
       "    <tr>\n",
       "      <th>13</th>\n",
       "      <td>MS PowerPoint</td>\n",
       "      <td>47</td>\n",
       "    </tr>\n",
       "    <tr>\n",
       "      <th>14</th>\n",
       "      <td>Бизнес-анализ</td>\n",
       "      <td>43</td>\n",
       "    </tr>\n",
       "  </tbody>\n",
       "</table>\n",
       "</div>"
      ],
      "text/plain": [
       "                       skill_  count\n",
       "0                      Python    478\n",
       "1                         SQL    397\n",
       "2                      MS SQL    101\n",
       "3                       Linux     75\n",
       "4               Анализ данных     71\n",
       "5             Английский язык     71\n",
       "6                        Java     69\n",
       "7                 Data Mining     68\n",
       "8                         Git     66\n",
       "9                  PostgreSQL     61\n",
       "10      Статистический анализ     52\n",
       "11  Математическая статистика     49\n",
       "12                        VBA     48\n",
       "13              MS PowerPoint     47\n",
       "14              Бизнес-анализ     43"
      ]
     },
     "execution_count": 196,
     "metadata": {},
     "output_type": "execute_result"
    }
   ],
   "source": [
    "#выводим топ-15 ключевых навыков по частоте\n",
    "skills_df.head(15)"
   ]
  },
  {
   "cell_type": "code",
   "execution_count": 197,
   "metadata": {},
   "outputs": [
    {
     "data": {
      "image/png": "[encoded data removed]",
      "text/plain": [
       "<Figure size 432x288 with 1 Axes>"
      ]
     },
     "metadata": {},
     "output_type": "display_data"
    }
   ],
   "source": [
    "fig1, ax1 = plt.subplots()\n",
    "ax1.pie(skills_df.head(15)['count'], labels=skills_df.head(15)['skill_'], autopct='%1.1f%%',\n",
    "        shadow=True, startangle=90)\n",
    "ax1.axis('equal')  # Equal aspect ratio ensures that pie is drawn as a circle.\n",
    "ax1.set_title(\"Топ-15 ключевых навыков\")\n",
    "plt.show()"
   ]
  },
  {
   "cell_type": "code",
   "execution_count": null,
   "metadata": {},
   "outputs": [],
   "source": []
  }
 ],
 "metadata": {
  "hide_input": false,
  "kernelspec": {
   "display_name": "Python 3",
   "language": "python",
   "name": "python3"
  },
  "language_info": {
   "codemirror_mode": {
    "name": "ipython",
    "version": 3
   },
   "file_extension": ".py",
   "mimetype": "text/x-python",
   "name": "python",
   "nbconvert_exporter": "python",
   "pygments_lexer": "ipython3",
   "version": "3.7.1"
  }
 },
 "nbformat": 4,
 "nbformat_minor": 2
}
